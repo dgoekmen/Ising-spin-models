{
 "cells": [
  {
   "cell_type": "code",
   "execution_count": 1,
   "metadata": {
    "collapsed": false
   },
   "outputs": [
    {
     "name": "stderr",
     "output_type": "stream",
     "text": [
      "Using TensorFlow backend.\n"
     ]
    },
    {
     "name": "stdout",
     "output_type": "stream",
     "text": [
      "Populating the interactive namespace from numpy and matplotlib\n"
     ]
    }
   ],
   "source": [
    "import numpy as np\n",
    "import matplotlib.pyplot as plt\n",
    "from keras.models import Sequential\n",
    "from keras.layers import Dense\n",
    "from keras import regularizers\n",
    "%pylab inline\n",
    "plt.rcParams[\"figure.figsize\"] = (6,6)"
   ]
  },
  {
   "cell_type": "markdown",
   "metadata": {},
   "source": [
    "2D Ising Gauge Hamiltonian:\n",
    "$\n",
    "H = \\sum_p \\Pi_{i\\in p} \\sigma^z_i\n",
    "$"
   ]
  },
  {
   "cell_type": "code",
   "execution_count": 8,
   "metadata": {
    "collapsed": false,
    "scrolled": true
   },
   "outputs": [],
   "source": [
    "def plot_configuration(spins, dual=False):\n",
    "    '''\n",
    "    \n",
    "    this is just a helper function to plot the configuration of spins  given by 'spins'\n",
    "    note that (i,j) denotes a vertex coordinate, such that the location of the plaquette\n",
    "    center is at (i+0.5, j+0.5) and thus, the x spin is at (i+1, j+0.5) etc.\n",
    "    \n",
    "    Parameters\n",
    "    ----------\n",
    "    spins  :  int\n",
    "        spin configuration, dimension is NxNx2\n",
    "    dual   :  bool\n",
    "        Plot the configuration in dual space or not. Default is False.\n",
    "    '''\n",
    "    N = np.shape(spins)[1]\n",
    "    fig, ax = plt.subplots()\n",
    "    fig.add_axes()\n",
    "    ax = fig.axes[0]\n",
    "    for i in range(N+1):\n",
    "        ax.plot([i, i], [0,N], 'k')\n",
    "        ax.plot([0,N], [i,i], 'k')\n",
    "    \n",
    "    if not dual:\n",
    "        colors = ['b', 'gold'] # note: blue is down, red is up!\n",
    "        for i in range(N):\n",
    "            fig.gca().add_patch(plt.Circle((0,i+0.5), radius=0.2, fc=colors[int((spins[-1,i,0]+1)/2.)]))\n",
    "            fig.gca().add_patch(plt.Circle((i+0.5,0), radius=0.2, fc=colors[int((spins[i,-1,1]+1)/2.)]))\n",
    "            for j in range(N):\n",
    "                fig.gca().add_patch(plt.Circle((i+1,j+0.5), radius=0.2, fc=colors[int((spins[i,j,0]+1)/2.)]))\n",
    "                fig.gca().add_patch(plt.Circle((i+0.5,j+1), radius=0.2, fc=colors[int((spins[i,j,1]+1)/2.)]))\n",
    "    \n",
    "    if dual:\n",
    "        excitation = []\n",
    "        for i in range(N):\n",
    "            if spins[-1, i,0]==1: ax.plot([-0.5, 0.5], [i+0.5, i+0.5], 'b', lw=3)\n",
    "            if spins[i, -1,1]==1: ax.plot([i+0.5, i+0.5], [-0.5, 0.5], 'b', lw=3)\n",
    "            for j in range(N):\n",
    "                j_up = (N+j-1)%N\n",
    "                i_left = (i+N-1)%N\n",
    "                if spins[i,j,0]==1: ax.plot([i+0.5, i+1.5], [j+0.5, j+0.5], 'b', lw=3)\n",
    "                if spins[i,j,1]==1: ax.plot([i+0.5, i+0.5], [j+0.5, j+1.5], 'b', lw=3)\n",
    "                if spins[i,j, 0]*spins[i_left, j, 0]*spins[i,j,1]*spins[i,j_up, 1]==-1: excitation.append([i+0.5,j+0.5])\n",
    "        if len(excitation)>0: plt.scatter(np.array(excitation)[:,0], np.array(excitation)[:,1], color='red', s=350, marker=(5,1))\n",
    "    ax.set_ylim(-1,N+1)\n",
    "    ax.set_xlim(-1,N+1)\n",
    "    ax.set_aspect('equal')\n",
    "    plt.xlabel(\"x\")\n",
    "    plt.ylabel(\"y\")\n",
    "    plt.axis('off')\n",
    "    fig.show()"
   ]
  },
  {
   "cell_type": "code",
   "execution_count": 27,
   "metadata": {
    "collapsed": false
   },
   "outputs": [
    {
     "name": "stdout",
     "output_type": "stream",
     "text": [
      "loaded 2000 configurations of size 16x16 for training\n"
     ]
    }
   ],
   "source": [
    "configs = np.loadtxt(\"configs.txt\")\n",
    "labels = np.loadtxt(\"labels.txt\")\n",
    "N = int(np.sqrt(np.shape(configs[0])[0]/2))\n",
    "print(\"loaded %i configurations of size %ix%i for training\"%(len(configs), N,N))"
   ]
  },
  {
   "cell_type": "code",
   "execution_count": 26,
   "metadata": {
    "collapsed": false
   },
   "outputs": [
    {
     "name": "stdout",
     "output_type": "stream",
     "text": [
      "loaded 2000 test configurations of size 16x16 for training\n"
     ]
    }
   ],
   "source": [
    "test_config = np.loadtxt(\"test_configs.txt\")\n",
    "test_labels = np.loadtxt(\"test_labels.txt\")\n",
    "N = int(np.sqrt(np.shape(configs[0])[0]/2))\n",
    "print(\"loaded %i test configurations of size %ix%i for training\"%(len(configs), N,N))"
   ]
  },
  {
   "cell_type": "code",
   "execution_count": 6,
   "metadata": {
    "collapsed": true
   },
   "outputs": [],
   "source": [
    "# prepare data for training\n",
    "x = configs\n",
    "y = [(i%2,(i+1)%2) for i in labels]"
   ]
  },
  {
   "cell_type": "code",
   "execution_count": 9,
   "metadata": {
    "collapsed": false
   },
   "outputs": [
    {
     "data": {
      "image/png": "[encoded data removed]",
      "text/plain": [
       "<matplotlib.figure.Figure at 0x115a64310>"
      ]
     },
     "metadata": {},
     "output_type": "display_data"
    }
   ],
   "source": [
    "plot_configuration(np.reshape(configs[0], (N,N,2)))"
   ]
  },
  {
   "cell_type": "code",
   "execution_count": 10,
   "metadata": {
    "collapsed": false,
    "scrolled": true
   },
   "outputs": [
    {
     "data": {
      "image/png": "[encoded data removed]",
      "text/plain": [
       "<matplotlib.figure.Figure at 0x11916b850>"
      ]
     },
     "metadata": {},
     "output_type": "display_data"
    }
   ],
   "source": [
    "plot_configuration(np.reshape(configs[0], (N,N,2)), dual=True)"
   ]
  },
  {
   "cell_type": "code",
   "execution_count": 29,
   "metadata": {
    "collapsed": false
   },
   "outputs": [
    {
     "data": {
      "image/png": "[encoded data removed]",
      "text/plain": [
       "<matplotlib.figure.Figure at 0x11c30b550>"
      ]
     },
     "metadata": {},
     "output_type": "display_data"
    }
   ],
   "source": [
    "# just to show how excitations / defects are shown in 'dual' mode\n",
    "single_excitation = copy(configs[0])\n",
    "i = 11\n",
    "j = 5\n",
    "single_excitation[i*N+j]*=-1\n",
    "plot_configuration(np.reshape(single_excitation, (N,N,2)), dual=True)"
   ]
  },
  {
   "cell_type": "markdown",
   "metadata": {},
   "source": [
    "## Dense model to check"
   ]
  },
  {
   "cell_type": "code",
   "execution_count": 13,
   "metadata": {
    "collapsed": false
   },
   "outputs": [],
   "source": [
    "# create a simple dense model model\n",
    "model = Sequential()\n",
    "model.add(Dense(100, input_dim=2*N**2, kernel_initializer='random_normal', activation='sigmoid', kernel_regularizer=regularizers.l2(0.01)))\n",
    "model.add(Dense(2, kernel_initializer='random_normal', activation='softmax', kernel_regularizer=regularizers.l2(0.0)))\n",
    "\n",
    "# Compile model\n",
    "model.compile(loss='categorical_crossentropy', optimizer='adam', metrics=['accuracy'])"
   ]
  },
  {
   "cell_type": "code",
   "execution_count": 14,
   "metadata": {
    "collapsed": false
   },
   "outputs": [
    {
     "data": {
      "text/plain": [
       "<keras.callbacks.History at 0x1159d6b50>"
      ]
     },
     "execution_count": 14,
     "metadata": {},
     "output_type": "execute_result"
    }
   ],
   "source": [
    "model.fit(x, y, epochs=50, batch_size=32,  verbose=0)"
   ]
  },
  {
   "cell_type": "code",
   "execution_count": 16,
   "metadata": {
    "collapsed": true
   },
   "outputs": [],
   "source": [
    "test_y = [(i%2,(i+1)%2) for i in test_labels]"
   ]
  },
  {
   "cell_type": "code",
   "execution_count": 17,
   "metadata": {
    "collapsed": false
   },
   "outputs": [
    {
     "name": "stdout",
     "output_type": "stream",
     "text": [
      "evaluate the model on the test set and print out loss and acc\n",
      "2000/2000 [==============================] - 0s 55us/step\b\b\b\b\b\b\b\b\b\b\b\b\b\b\b\b\b\b\b\b\b\b\b\b\b\b\b\b\b\b\b\b\b\b\b\b\b\b\b\b\b\b\b\b\b\b\b1568/2000 [======================>.......] - ETA: 0s\b\b\b\b\b\b\b\b\b\b\b\b\b\b\b\b\b\b\b\b\b\b\b\b\b\b\b\b\b\b\b\b\b\b\b\b\b\b\b\b\b\b\b\b\b\b\b\b\b\b\b\b\n"
     ]
    },
    {
     "data": {
      "text/plain": [
       "[0.82491593170166011, 0.50549999999999995]"
      ]
     },
     "execution_count": 17,
     "metadata": {},
     "output_type": "execute_result"
    }
   ],
   "source": [
    "print(\"evaluate the model on the test set and print out %s and %s\" %(model.metrics_names[0], model.metrics_names[1]))\n",
    "model.evaluate(test_config, test_y)"
   ]
  },
  {
   "cell_type": "markdown",
   "metadata": {},
   "source": [
    "## deeper dense network"
   ]
  },
  {
   "cell_type": "markdown",
   "metadata": {},
   "source": [
    "just for the fun of it"
   ]
  },
  {
   "cell_type": "code",
   "execution_count": 18,
   "metadata": {
    "collapsed": true
   },
   "outputs": [],
   "source": [
    "# create model\n",
    "model2 = Sequential()\n",
    "model2.add(Dense(100, input_dim=2*N**2, kernel_initializer='random_normal', activation='sigmoid', kernel_regularizer=regularizers.l2(0.01)))\n",
    "model2.add(Dense(50, kernel_initializer='random_normal', activation='sigmoid', kernel_regularizer=regularizers.l2(0.0)))\n",
    "model2.add(Dense(2, kernel_initializer='random_normal', activation='softmax', kernel_regularizer=regularizers.l2(0.0)))\n",
    "\n",
    "# Compile model\n",
    "model2.compile(loss='categorical_crossentropy', optimizer='adam', metrics=['accuracy'])"
   ]
  },
  {
   "cell_type": "code",
   "execution_count": 19,
   "metadata": {
    "collapsed": false
   },
   "outputs": [
    {
     "data": {
      "text/plain": [
       "<keras.callbacks.History at 0x1199dbd10>"
      ]
     },
     "execution_count": 19,
     "metadata": {},
     "output_type": "execute_result"
    }
   ],
   "source": [
    "model2.fit(x, y, epochs=50, batch_size=32,  verbose=0) # use verbose=1 or =2 to see more progress information."
   ]
  },
  {
   "cell_type": "code",
   "execution_count": 20,
   "metadata": {
    "collapsed": false
   },
   "outputs": [
    {
     "name": "stdout",
     "output_type": "stream",
     "text": [
      "evaluate the deeper dense model on the test set and print out loss and acc\n",
      "2000/2000 [==============================] - 0s 41us/step\b\b\b\b\b\b\b\b\b\b\b\b\b\b\b\b\b\b\b\b\b\b\b\b\b\b\b\b\b\b\b\b\b\b\b\b\b\b\b\b\b\b\b\b\b\b\b1120/2000 [===============>..............] - ETA: 0s\b\b\b\b\b\b\b\b\b\b\b\b\b\b\b\b\b\b\b\b\b\b\b\b\b\b\b\b\b\b\b\b\b\b\b\b\b\b\b\b\b\b\b\b\b\b\b\b\b\b\b\b\n"
     ]
    },
    {
     "data": {
      "text/plain": [
       "[0.82491593170166011, 0.50549999999999995]"
      ]
     },
     "execution_count": 20,
     "metadata": {},
     "output_type": "execute_result"
    }
   ],
   "source": [
    "print(\"evaluate the deeper dense model on the test set and print out %s and %s\" %(model.metrics_names[0], model.metrics_names[1]))\n",
    "model.evaluate(test_config, test_y)"
   ]
  },
  {
   "cell_type": "markdown",
   "metadata": {},
   "source": [
    "## convolution NN"
   ]
  },
  {
   "cell_type": "code",
   "execution_count": 21,
   "metadata": {
    "collapsed": true
   },
   "outputs": [],
   "source": [
    "# just this once, for demonstartion purposes, we shall import stuff not on the top ;)\n",
    "from keras.layers import Conv2D, Dropout, Flatten"
   ]
  },
  {
   "cell_type": "code",
   "execution_count": 22,
   "metadata": {
    "collapsed": false
   },
   "outputs": [],
   "source": [
    "# Note that here now, the input shape actually matters!\n",
    "x = np.array([np.reshape(config, (N,N,2)) for config in configs])"
   ]
  },
  {
   "cell_type": "code",
   "execution_count": 23,
   "metadata": {
    "collapsed": true
   },
   "outputs": [],
   "source": [
    "def create_periodic_padding(configs, kernel_size):\n",
    "    N = np.shape(configs)[1]\n",
    "    padding = kernel_size-1\n",
    "    x = []\n",
    "    for config in configs:\n",
    "        padded = np.zeros((N+2*padding, N+2*padding, 2))\n",
    "        # lower left corner\n",
    "        padded[:padding,:padding, :] = config[N-padding:,N-padding:,:]\n",
    "        # lower middle\n",
    "        padded[padding:N+padding, :padding, :] = config[:,N-padding:,:]\n",
    "        # lower right corner\n",
    "        padded[N+padding:, :padding, :] = config[:padding, N-padding:, :]\n",
    "        # left side\n",
    "        padded[:padding, padding:N+padding, :] = config[N-padding:, :, :]\n",
    "        # center\n",
    "        padded[padding:N+padding, padding:N+padding, :] = config[:,:,:]\n",
    "        # right side\n",
    "        padded[N+padding:, padding:N+padding, :] = config[:padding, :, :]\n",
    "        # top left corner\n",
    "        padded[:padding, N+padding:,:] = config[N-padding:, :padding, :]\n",
    "        # top middle\n",
    "        padded[padding:N+padding, N+padding:, :] = config[:, :padding, :]\n",
    "        # top right corner\n",
    "        padded[N+padding:, N+padding:, :] = config[:padding, :padding, :]\n",
    "        x.append(padded)\n",
    "    return np.array(x)"
   ]
  },
  {
   "cell_type": "code",
   "execution_count": 55,
   "metadata": {
    "collapsed": true
   },
   "outputs": [],
   "source": [
    "# we want to be able to use different kernel sizes and compare\n",
    "def convolutional_model(kernel_size):\n",
    "    input_size = 16+2*(kernel_size-1)\n",
    "    model = Sequential()\n",
    "    model.add(Conv2D(64, (kernel_size, kernel_size), strides=1, input_shape=(input_size,input_size,2), activation='relu'))\n",
    "    model.add(Flatten())\n",
    "    model.add(Dense(64, activation='relu'))\n",
    "    model.add(Dropout(0.2))\n",
    "    model.add(Dense(2, activation='softmax'))\n",
    "\n",
    "    # Compile model\n",
    "    model.compile(loss='categorical_crossentropy', optimizer='adam', metrics=['accuracy'])\n",
    "    \n",
    "    return model"
   ]
  },
  {
   "cell_type": "code",
   "execution_count": 56,
   "metadata": {
    "collapsed": false
   },
   "outputs": [],
   "source": [
    "test_x = np.array([np.reshape(config, (N,N,2)) for config in test_config])"
   ]
  },
  {
   "cell_type": "code",
   "execution_count": 57,
   "metadata": {
    "collapsed": false
   },
   "outputs": [
    {
     "name": "stdout",
     "output_type": "stream",
     "text": [
      "Kernel size is 2x2\n",
      "run 1 of 20\n",
      "accuracy is 100.0%\n",
      "run 2 of 20\n",
      "accuracy is 100.0%\n",
      "run 3 of 20\n",
      "accuracy is 100.0%\n",
      "run 4 of 20\n",
      "accuracy is 100.0%\n",
      "run 5 of 20\n",
      "accuracy is 100.0%\n",
      "run 6 of 20\n",
      "accuracy is 100.0%\n",
      "run 7 of 20\n",
      "accuracy is 100.0%\n",
      "run 8 of 20\n",
      "accuracy is 100.0%\n",
      "run 9 of 20\n",
      "accuracy is 100.0%\n",
      "run 10 of 20\n",
      "accuracy is 100.0%\n",
      "run 11 of 20\n",
      "accuracy is 100.0%\n",
      "run 12 of 20\n",
      "accuracy is 100.0%\n",
      "run 13 of 20\n",
      "accuracy is 100.0%\n",
      "run 14 of 20\n",
      "accuracy is 100.0%\n",
      "run 15 of 20\n",
      "accuracy is 100.0%\n",
      "run 16 of 20\n",
      "accuracy is 100.0%\n",
      "run 17 of 20\n",
      "accuracy is 100.0%\n",
      "run 18 of 20\n",
      "accuracy is 100.0%\n",
      "run 19 of 20\n",
      "accuracy is 100.0%\n",
      "run 20 of 20\n",
      "accuracy is 100.0%\n",
      "Kernel size is 3x3\n",
      "run 1 of 20\n",
      "accuracy is 99.875%\n",
      "run 2 of 20\n",
      "accuracy is 100.0%\n",
      "run 3 of 20\n",
      "accuracy is 100.0%\n",
      "run 4 of 20\n",
      "accuracy is 100.0%\n",
      "run 5 of 20\n",
      "accuracy is 100.0%\n",
      "run 6 of 20\n",
      "accuracy is 100.0%\n",
      "run 7 of 20\n",
      "accuracy is 100.0%\n",
      "run 8 of 20\n",
      "accuracy is 100.0%\n",
      "run 9 of 20\n",
      "accuracy is 100.0%\n",
      "run 10 of 20\n",
      "accuracy is 100.0%\n",
      "run 11 of 20\n",
      "accuracy is 99.925%\n",
      "run 12 of 20\n",
      "accuracy is 100.0%\n",
      "run 13 of 20\n",
      "accuracy is 100.0%\n",
      "run 14 of 20\n",
      "accuracy is 100.0%\n",
      "run 15 of 20\n",
      "accuracy is 100.0%\n",
      "run 16 of 20\n",
      "accuracy is 100.0%\n",
      "run 17 of 20\n",
      "accuracy is 100.0%\n",
      "run 18 of 20\n",
      "accuracy is 100.0%\n",
      "run 19 of 20\n",
      "accuracy is 100.0%\n",
      "run 20 of 20\n",
      "accuracy is 100.0%\n",
      "Kernel size is 4x4\n",
      "run 1 of 20\n",
      "accuracy is 100.0%\n",
      "run 2 of 20\n",
      "accuracy is 100.0%\n",
      "run 3 of 20\n",
      "accuracy is 100.0%\n",
      "run 4 of 20\n",
      "accuracy is 49.95%\n",
      "run 5 of 20\n",
      "accuracy is 51.2%\n",
      "run 6 of 20\n",
      "accuracy is 100.0%\n",
      "run 7 of 20\n",
      "accuracy is 100.0%\n",
      "run 8 of 20\n",
      "accuracy is 100.0%\n",
      "run 9 of 20\n",
      "accuracy is 99.975%\n",
      "run 10 of 20\n",
      "accuracy is 100.0%\n",
      "run 11 of 20\n",
      "accuracy is 100.0%\n",
      "run 12 of 20\n",
      "accuracy is 99.975%\n",
      "run 13 of 20\n",
      "accuracy is 100.0%\n",
      "run 14 of 20\n",
      "accuracy is 100.0%\n",
      "run 15 of 20\n",
      "accuracy is 99.575%\n",
      "run 16 of 20\n",
      "accuracy is 100.0%\n",
      "run 17 of 20\n",
      "accuracy is 100.0%\n",
      "run 18 of 20\n",
      "accuracy is 100.0%\n",
      "run 19 of 20\n",
      "accuracy is 100.0%\n",
      "run 20 of 20\n",
      "accuracy is 100.0%\n",
      "Kernel size is 5x5\n",
      "run 1 of 20\n",
      "accuracy is 50.325%\n",
      "run 2 of 20\n",
      "accuracy is 98.475%\n",
      "run 3 of 20\n",
      "accuracy is 50.75%\n",
      "run 4 of 20\n",
      "accuracy is 49.625%\n",
      "run 5 of 20\n",
      "accuracy is 50.65%\n",
      "run 6 of 20\n",
      "accuracy is 100.0%\n",
      "run 7 of 20\n",
      "accuracy is 50.425%\n",
      "run 8 of 20\n",
      "accuracy is 100.0%\n",
      "run 9 of 20\n",
      "accuracy is 92.2%\n",
      "run 10 of 20\n",
      "accuracy is 99.875%\n",
      "run 11 of 20\n",
      "accuracy is 51.3%\n",
      "run 12 of 20\n",
      "accuracy is 50.65%\n",
      "run 13 of 20\n",
      "accuracy is 50.3%\n",
      "run 14 of 20\n",
      "accuracy is 99.45%\n",
      "run 15 of 20\n",
      "accuracy is 51.175%\n",
      "run 16 of 20\n",
      "accuracy is 51.3%\n",
      "run 17 of 20\n",
      "accuracy is 99.975%\n",
      "run 18 of 20\n",
      "accuracy is 50.0%\n",
      "run 19 of 20\n",
      "accuracy is 93.35%\n",
      "run 20 of 20\n",
      "accuracy is 51.1%\n",
      "Kernel size is 6x6\n",
      "run 1 of 20\n",
      "accuracy is 51.925%\n",
      "run 2 of 20\n",
      "accuracy is 50.1%\n",
      "run 3 of 20\n",
      "accuracy is 49.7%\n",
      "run 4 of 20\n",
      "accuracy is 50.1%\n",
      "run 5 of 20\n",
      "accuracy is 49.925%\n",
      "run 6 of 20\n",
      "accuracy is 50.925%\n",
      "run 7 of 20\n",
      "accuracy is 50.175%\n",
      "run 8 of 20\n",
      "accuracy is 49.15%\n",
      "run 9 of 20\n",
      "accuracy is 50.575%\n",
      "run 10 of 20\n",
      "accuracy is 50.325%\n",
      "run 11 of 20\n",
      "accuracy is 49.925%\n",
      "run 12 of 20\n",
      "accuracy is 49.975%\n",
      "run 13 of 20\n",
      "accuracy is 50.925%\n",
      "run 14 of 20\n",
      "accuracy is 51.475%\n",
      "run 15 of 20\n",
      "accuracy is 50.6%\n",
      "run 16 of 20\n",
      "accuracy is 51.25%\n",
      "run 17 of 20\n",
      "accuracy is 50.95%\n",
      "run 18 of 20\n",
      "accuracy is 50.075%\n",
      "run 19 of 20\n",
      "accuracy is 50.975%\n",
      "run 20 of 20\n",
      "accuracy is 50.625%\n",
      "Kernel size is 7x7\n",
      "run 1 of 20\n",
      "accuracy is 51.45%\n",
      "run 2 of 20\n",
      "accuracy is 50.5%\n",
      "run 3 of 20\n",
      "accuracy is 50.8%\n",
      "run 4 of 20\n",
      "accuracy is 50.125%\n",
      "run 5 of 20\n",
      "accuracy is 52.075%\n",
      "run 6 of 20\n",
      "accuracy is 51.225%\n",
      "run 7 of 20\n",
      "accuracy is 51.5%\n",
      "run 8 of 20\n",
      "accuracy is 51.05%\n",
      "run 9 of 20\n",
      "accuracy is 50.075%\n",
      "run 10 of 20\n",
      "accuracy is 51.025%\n",
      "run 11 of 20\n",
      "accuracy is 51.325%\n",
      "run 12 of 20\n",
      "accuracy is 50.15%\n",
      "run 13 of 20\n",
      "accuracy is 50.0%\n",
      "run 14 of 20\n",
      "accuracy is 50.15%\n",
      "run 15 of 20\n",
      "accuracy is 49.75%\n",
      "run 16 of 20\n",
      "accuracy is 50.925%\n",
      "run 17 of 20\n",
      "accuracy is 50.525%\n",
      "run 18 of 20\n",
      "accuracy is 50.825%\n",
      "run 19 of 20\n",
      "accuracy is 49.475%\n",
      "run 20 of 20\n",
      "accuracy is 50.275%\n",
      "Kernel size is 8x8\n",
      "run 1 of 20\n",
      "accuracy is 50.45%\n",
      "run 2 of 20\n",
      "accuracy is 51.025%\n",
      "run 3 of 20\n",
      "accuracy is 50.85%\n",
      "run 4 of 20\n",
      "accuracy is 50.625%\n",
      "run 5 of 20\n",
      "accuracy is 50.775%\n",
      "run 6 of 20\n",
      "accuracy is 52.9%\n",
      "run 7 of 20\n",
      "accuracy is 50.0%\n",
      "run 8 of 20\n",
      "accuracy is 50.325%\n",
      "run 9 of 20\n",
      "accuracy is 50.3%\n",
      "run 10 of 20\n",
      "accuracy is 49.95%\n",
      "run 11 of 20\n",
      "accuracy is 49.575%\n",
      "run 12 of 20\n",
      "accuracy is 50.15%\n",
      "run 13 of 20\n",
      "accuracy is 50.0%\n",
      "run 14 of 20\n",
      "accuracy is 51.5%\n",
      "run 15 of 20\n",
      "accuracy is 50.0%\n",
      "run 16 of 20\n",
      "accuracy is 51.95%\n",
      "run 17 of 20\n",
      "accuracy is 50.125%\n",
      "run 18 of 20\n",
      "accuracy is 50.55%\n",
      "run 19 of 20\n",
      "accuracy is 50.0%\n",
      "run 20 of 20\n",
      "accuracy is 50.925%\n"
     ]
    }
   ],
   "source": [
    "# Warning: this will take a while...\n",
    "kernel_sizes=[2,3,4,5,6,7,8]\n",
    "accuracy = []\n",
    "runs = 20\n",
    "for kernel_size in kernel_sizes:\n",
    "    print(\"Kernel size is %ix%i\"%(kernel_size,kernel_size))\n",
    "    x_n = create_periodic_padding(x,kernel_size)\n",
    "    test_x_n = create_periodic_padding(test_x, kernel_size)\n",
    "    for i in range(runs):\n",
    "        print(\"run %i of %i\"%(i+1, runs))\n",
    "        model = convolutional_model(kernel_size)\n",
    "        model.fit(x_n,y,epochs=50, batch_size=32, verbose=0)\n",
    "        scores = model.evaluate(test_x_n, test_y, verbose=0)\n",
    "        acc = scores[1]*100\n",
    "        print(\"accuracy is {0}%\".format(acc))\n",
    "        accuracy.append(acc)"
   ]
  },
  {
   "cell_type": "code",
   "execution_count": 58,
   "metadata": {
    "collapsed": true
   },
   "outputs": [],
   "source": [
    "# this is only needed to fool around with the simulation results and plot.\n",
    "from pandas import DataFrame"
   ]
  },
  {
   "cell_type": "code",
   "execution_count": 60,
   "metadata": {
    "collapsed": false
   },
   "outputs": [],
   "source": [
    "acc = np.reshape(np.array(accuracy), (7, 20))"
   ]
  },
  {
   "cell_type": "code",
   "execution_count": 61,
   "metadata": {
    "collapsed": true
   },
   "outputs": [],
   "source": [
    "accur = {}\n",
    "accur['2']=acc[0]\n",
    "accur['3']=acc[1]\n",
    "accur['4']=acc[2]\n",
    "accur['5']=acc[3]\n",
    "accur['6']=acc[4]\n",
    "accur['7']=acc[5]\n",
    "accur['8']=acc[6]"
   ]
  },
  {
   "cell_type": "code",
   "execution_count": 62,
   "metadata": {
    "collapsed": false
   },
   "outputs": [
    {
     "name": "stdout",
     "output_type": "stream",
     "text": [
      "           2          3           4          5          6          7  \\\n",
      "count   20.0   20.00000   20.000000   20.00000  20.000000  20.000000   \n",
      "mean   100.0   99.99000   95.033750   69.54625  50.483750  50.661250   \n",
      "std      0.0    0.03183   15.206217   23.84929   0.664726   0.669027   \n",
      "min    100.0   99.87500   49.950000   49.62500  49.150000  49.475000   \n",
      "25%    100.0  100.00000   99.993750   50.59375  50.050000  50.143750   \n",
      "50%    100.0  100.00000  100.000000   51.23750  50.450000  50.662500   \n",
      "75%    100.0  100.00000  100.000000   98.71875  50.931250  51.093750   \n",
      "max    100.0  100.00000  100.000000  100.00000  51.925000  52.075000   \n",
      "\n",
      "               8  \n",
      "count  20.000000  \n",
      "mean   50.598750  \n",
      "std     0.789215  \n",
      "min    49.575000  \n",
      "25%    50.000000  \n",
      "50%    50.387500  \n",
      "75%    50.868750  \n",
      "max    52.900000  \n"
     ]
    }
   ],
   "source": [
    "results = DataFrame(accur)\n",
    "print(results.describe())"
   ]
  },
  {
   "cell_type": "code",
   "execution_count": 91,
   "metadata": {
    "collapsed": false
   },
   "outputs": [
    {
     "data": {
      "image/png": "[encoded data removed]",
      "text/plain": [
       "<matplotlib.figure.Figure at 0x295f28c10>"
      ]
     },
     "metadata": {},
     "output_type": "display_data"
    }
   ],
   "source": [
    "plt.rcParams[\"figure.figsize\"] = (6,4)\n",
    "color = dict(boxes='LightGreen', whiskers='Orange', medians='DarkBlue', caps='Gray')\n",
    "results.plot.box(color=color, sym='bx')\n",
    "plt.xlabel(\"kernel size\")\n",
    "plt.ylabel(\"accuracy\")\n",
    "plt.savefig(\"kernel_sizes.pdf\")"
   ]
  },
  {
   "cell_type": "code",
   "execution_count": null,
   "metadata": {
    "collapsed": true
   },
   "outputs": [],
   "source": []
  }
 ],
 "metadata": {
  "kernelspec": {
   "display_name": "Python 2",
   "language": "python",
   "name": "python2"
  },
  "language_info": {
   "codemirror_mode": {
    "name": "ipython",
    "version": 2
   },
   "file_extension": ".py",
   "mimetype": "text/x-python",
   "name": "python",
   "nbconvert_exporter": "python",
   "pygments_lexer": "ipython2",
   "version": "2.7.13"
  }
 },
 "nbformat": 4,
 "nbformat_minor": 2
}
